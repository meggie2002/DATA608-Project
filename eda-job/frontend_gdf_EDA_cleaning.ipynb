{
 "cells": [
  {
   "cell_type": "code",
   "execution_count": 2,
   "id": "da8440f7",
   "metadata": {},
   "outputs": [],
   "source": [
    "import geopandas as gpd\n",
    "import pandas as pd\n",
    "from ydata_profiling import ProfileReport\n",
    "import os"
   ]
  },
  {
   "cell_type": "code",
   "execution_count": 3,
   "id": "e1b953e8-ef1e-4fa5-9afa-4c562c850d7c",
   "metadata": {},
   "outputs": [
    {
     "data": {
      "application/vnd.jupyter.widget-view+json": {
       "model_id": "ef74669495a645afbf771ab332dfaebb",
       "version_major": 2,
       "version_minor": 0
      },
      "text/plain": [
       "IntSlider(value=0)"
      ]
     },
     "execution_count": 3,
     "metadata": {},
     "output_type": "execute_result"
    }
   ],
   "source": [
    "import ipywidgets as widgets\n",
    "widgets.IntSlider()"
   ]
  },
  {
   "cell_type": "code",
   "execution_count": 4,
   "id": "e2f855fb",
   "metadata": {},
   "outputs": [
    {
     "name": "stdout",
     "output_type": "stream",
     "text": [
      "Part1 shape: (13206, 29), Part2 shape: (13178, 29)\n",
      "CPU times: user 2min 39s, sys: 6.51 s, total: 2min 45s\n",
      "Wall time: 2min 54s\n"
     ]
    }
   ],
   "source": [
    "%%time\n",
    "#Load Shapefiles \n",
    "#Load two parts of the MAMMALS dataset as GeoDataFrames\n",
    "gdf_part1 = gpd.read_file(\"/mnt/data/eda-job/raw_shapefiles/MAMMALS_PART1.shp\")\n",
    "gdf_part2 = gpd.read_file(\"/mnt/data/eda-job/raw_shapefiles/MAMMALS_PART2.shp\")\n",
    "print(f\"Part1 shape: {gdf_part1.shape}, Part2 shape: {gdf_part2.shape}\")"
   ]
  },
  {
   "cell_type": "code",
   "execution_count": 18,
   "id": "eb493c8a",
   "metadata": {},
   "outputs": [
    {
     "name": "stdout",
     "output_type": "stream",
     "text": [
      "Invalid geometries in part1: 0\n",
      "Invalid geometries in part2: 0\n",
      "Null geometries in part1: 0\n",
      "Null geometries in part2: 0\n",
      "CPU times: user 22min 51s, sys: 52.9 ms, total: 22min 51s\n",
      "Wall time: 22min 51s\n"
     ]
    }
   ],
   "source": [
    "%%time\n",
    "#Validate geometries\n",
    "#Check for invalid or missing geometries, which can break spatial ops\n",
    "print(\"Invalid geometries in part1:\", gdf_part1[~gdf_part1.is_valid].shape[0]) \n",
    "print(\"Invalid geometries in part2:\", gdf_part2[~gdf_part2.is_valid].shape[0])\n",
    "print(\"Null geometries in part1:\", gdf_part1['geometry'].isnull().sum())\n",
    "print(\"Null geometries in part2:\", gdf_part2['geometry'].isnull().sum())"
   ]
  },
  {
   "cell_type": "code",
   "execution_count": 15,
   "id": "c17b4e23",
   "metadata": {
    "scrolled": true
   },
   "outputs": [
    {
     "name": "stdout",
     "output_type": "stream",
     "text": [
      "Part1 missing values per column:\n",
      "id_no             0\n",
      "sci_name          0\n",
      "presence          0\n",
      "origin            0\n",
      "seasonal          0\n",
      "compiler          0\n",
      "yrcompiled        0\n",
      "citation          0\n",
      "subspecies    12222\n",
      "subpop        13142\n",
      "source        12332\n",
      "island         6796\n",
      "tax_comm      13110\n",
      "dist_comm     12930\n",
      "generalisd        0\n",
      "legend            0\n",
      "kingdom           0\n",
      "phylum            0\n",
      "class             0\n",
      "order_            0\n",
      "family            0\n",
      "genus             0\n",
      "category          0\n",
      "marine            0\n",
      "terrestria        0\n",
      "freshwater        0\n",
      "SHAPE_Leng        0\n",
      "SHAPE_Area        0\n",
      "geometry          0\n",
      "dtype: int64\n",
      "\n",
      "Part2 missing values per column:\n",
      "id_no             0\n",
      "sci_name          0\n",
      "presence          0\n",
      "origin            0\n",
      "seasonal          0\n",
      "compiler          0\n",
      "yrcompiled        0\n",
      "citation          0\n",
      "subspecies    11850\n",
      "subpop        12930\n",
      "source        12098\n",
      "island         7002\n",
      "tax_comm      13078\n",
      "dist_comm     12546\n",
      "generalisd        0\n",
      "legend            0\n",
      "kingdom           0\n",
      "phylum            0\n",
      "class             0\n",
      "order_            0\n",
      "family            0\n",
      "genus             0\n",
      "category          0\n",
      "marine            0\n",
      "terrestria        0\n",
      "freshwater        0\n",
      "SHAPE_Leng        0\n",
      "SHAPE_Area        0\n",
      "geometry          0\n",
      "dtype: int64\n",
      "CPU times: user 42.3 ms, sys: 8 μs, total: 42.3 ms\n",
      "Wall time: 41.1 ms\n"
     ]
    }
   ],
   "source": [
    "%%time\n",
    "#Inspect missing values\n",
    "#Quick NA summary per column\n",
    "print(\"Part1 missing values per column:\")\n",
    "print(gdf_part1.isna().sum())\n",
    "print(\"\\nPart2 missing values per column:\")\n",
    "print(gdf_part2.isna().sum())\n"
   ]
  },
  {
   "cell_type": "code",
   "execution_count": 19,
   "id": "c7ca3d02",
   "metadata": {
    "scrolled": true
   },
   "outputs": [
    {
     "data": {
      "application/vnd.jupyter.widget-view+json": {
       "model_id": "cca76d46d581484eb09ce7a58ec09b7e",
       "version_major": 2,
       "version_minor": 0
      },
      "text/plain": [
       "Summarize dataset:   0%|          | 0/5 [00:00<?, ?it/s]"
      ]
     },
     "metadata": {},
     "output_type": "display_data"
    },
    {
     "name": "stderr",
     "output_type": "stream",
     "text": [
      "\n",
      "  0%|                                                                 | 0/28 [00:00<?, ?it/s]\u001b[A\n",
      " 25%|██████████████▎                                          | 7/28 [00:00<00:00, 57.73it/s]\u001b[A\n",
      " 50%|████████████████████████████                            | 14/28 [00:00<00:00, 64.28it/s]\u001b[A\n",
      " 75%|██████████████████████████████████████████              | 21/28 [00:00<00:00, 65.22it/s]\u001b[A\n",
      "100%|████████████████████████████████████████████████████████| 28/28 [00:00<00:00, 64.51it/s]\u001b[A\n"
     ]
    },
    {
     "data": {
      "application/vnd.jupyter.widget-view+json": {
       "model_id": "ff20b223f05d4d0c9e6bd07c29579932",
       "version_major": 2,
       "version_minor": 0
      },
      "text/plain": [
       "Generate report structure:   0%|          | 0/1 [00:00<?, ?it/s]"
      ]
     },
     "metadata": {},
     "output_type": "display_data"
    },
    {
     "data": {
      "application/vnd.jupyter.widget-view+json": {
       "model_id": "101431dac2ae44908d8e549a3f37b93b",
       "version_major": 2,
       "version_minor": 0
      },
      "text/plain": [
       "Render HTML:   0%|          | 0/1 [00:00<?, ?it/s]"
      ]
     },
     "metadata": {},
     "output_type": "display_data"
    },
    {
     "data": {
      "application/vnd.jupyter.widget-view+json": {
       "model_id": "d37bb92da1b346888e3c27f31778b37c",
       "version_major": 2,
       "version_minor": 0
      },
      "text/plain": [
       "Export report to file:   0%|          | 0/1 [00:00<?, ?it/s]"
      ]
     },
     "metadata": {},
     "output_type": "display_data"
    },
    {
     "data": {
      "application/vnd.jupyter.widget-view+json": {
       "model_id": "b5dfbb0e6d374212931031b87a1ab9d6",
       "version_major": 2,
       "version_minor": 0
      },
      "text/plain": [
       "Summarize dataset:   0%|          | 0/5 [00:00<?, ?it/s]"
      ]
     },
     "metadata": {},
     "output_type": "display_data"
    },
    {
     "name": "stderr",
     "output_type": "stream",
     "text": [
      "\n",
      "  0%|                                                                 | 0/28 [00:00<?, ?it/s]\u001b[A\n",
      " 29%|████████████████▎                                        | 8/28 [00:00<00:00, 67.37it/s]\u001b[A\n",
      " 54%|██████████████████████████████                          | 15/28 [00:00<00:00, 58.82it/s]\u001b[A\n",
      " 75%|██████████████████████████████████████████              | 21/28 [00:00<00:00, 53.50it/s]\u001b[A\n",
      "100%|████████████████████████████████████████████████████████| 28/28 [00:00<00:00, 56.52it/s]\u001b[A\n"
     ]
    },
    {
     "data": {
      "application/vnd.jupyter.widget-view+json": {
       "model_id": "10c062af60b347949ea36e072a77aaa0",
       "version_major": 2,
       "version_minor": 0
      },
      "text/plain": [
       "Generate report structure:   0%|          | 0/1 [00:00<?, ?it/s]"
      ]
     },
     "metadata": {},
     "output_type": "display_data"
    },
    {
     "data": {
      "application/vnd.jupyter.widget-view+json": {
       "model_id": "8a51539dd8234a2ab4d6c7446e9c2f78",
       "version_major": 2,
       "version_minor": 0
      },
      "text/plain": [
       "Render HTML:   0%|          | 0/1 [00:00<?, ?it/s]"
      ]
     },
     "metadata": {},
     "output_type": "display_data"
    },
    {
     "data": {
      "application/vnd.jupyter.widget-view+json": {
       "model_id": "36df79a762a644279f01e1d8d1704c39",
       "version_major": 2,
       "version_minor": 0
      },
      "text/plain": [
       "Export report to file:   0%|          | 0/1 [00:00<?, ?it/s]"
      ]
     },
     "metadata": {},
     "output_type": "display_data"
    },
    {
     "data": {
      "application/vnd.jupyter.widget-view+json": {
       "model_id": "05c52a1da7554190967811bfd6dcabc1",
       "version_major": 2,
       "version_minor": 0
      },
      "text/plain": [
       "Summarize dataset:   0%|          | 0/5 [00:00<?, ?it/s]"
      ]
     },
     "metadata": {},
     "output_type": "display_data"
    },
    {
     "name": "stderr",
     "output_type": "stream",
     "text": [
      "\n",
      "  0%|                                                                 | 0/28 [00:00<?, ?it/s]\u001b[A\n",
      " 29%|████████████████▎                                        | 8/28 [00:00<00:00, 75.82it/s]\u001b[A\n",
      " 57%|████████████████████████████████                        | 16/28 [00:00<00:00, 55.68it/s]\u001b[A\n",
      "100%|████████████████████████████████████████████████████████| 28/28 [00:00<00:00, 56.55it/s]\u001b[A\n"
     ]
    },
    {
     "data": {
      "application/vnd.jupyter.widget-view+json": {
       "model_id": "2c0a6daf3d324cb5b01efb963ce718f9",
       "version_major": 2,
       "version_minor": 0
      },
      "text/plain": [
       "Generate report structure:   0%|          | 0/1 [00:00<?, ?it/s]"
      ]
     },
     "metadata": {},
     "output_type": "display_data"
    },
    {
     "data": {
      "application/vnd.jupyter.widget-view+json": {
       "model_id": "aaaea0d6ede7436e9ef1143126856868",
       "version_major": 2,
       "version_minor": 0
      },
      "text/plain": [
       "Render HTML:   0%|          | 0/1 [00:00<?, ?it/s]"
      ]
     },
     "metadata": {},
     "output_type": "display_data"
    },
    {
     "data": {
      "application/vnd.jupyter.widget-view+json": {
       "model_id": "e69a936ee9544167839a5c8b16948c4a",
       "version_major": 2,
       "version_minor": 0
      },
      "text/plain": [
       "Export report to file:   0%|          | 0/1 [00:00<?, ?it/s]"
      ]
     },
     "metadata": {},
     "output_type": "display_data"
    },
    {
     "data": {
      "application/vnd.jupyter.widget-view+json": {
       "model_id": "01c4cd9675b3493e828728dc6b64a00e",
       "version_major": 2,
       "version_minor": 0
      },
      "text/plain": [
       "Summarize dataset:   0%|          | 0/5 [00:00<?, ?it/s]"
      ]
     },
     "metadata": {},
     "output_type": "display_data"
    },
    {
     "name": "stderr",
     "output_type": "stream",
     "text": [
      "\n",
      "  0%|                                                                 | 0/28 [00:00<?, ?it/s]\u001b[A\n",
      " 29%|████████████████▎                                        | 8/28 [00:00<00:00, 79.14it/s]\u001b[A\n",
      " 57%|████████████████████████████████                        | 16/28 [00:00<00:00, 61.06it/s]\u001b[A\n",
      "100%|████████████████████████████████████████████████████████| 28/28 [00:00<00:00, 63.85it/s]\u001b[A\n"
     ]
    },
    {
     "data": {
      "application/vnd.jupyter.widget-view+json": {
       "model_id": "b7df2e3c12a249ce9e9f976797645b27",
       "version_major": 2,
       "version_minor": 0
      },
      "text/plain": [
       "Generate report structure:   0%|          | 0/1 [00:00<?, ?it/s]"
      ]
     },
     "metadata": {},
     "output_type": "display_data"
    },
    {
     "data": {
      "application/vnd.jupyter.widget-view+json": {
       "model_id": "84e1dcd2727a4687bcb72047aede6d32",
       "version_major": 2,
       "version_minor": 0
      },
      "text/plain": [
       "Render HTML:   0%|          | 0/1 [00:00<?, ?it/s]"
      ]
     },
     "metadata": {},
     "output_type": "display_data"
    },
    {
     "data": {
      "application/vnd.jupyter.widget-view+json": {
       "model_id": "287b68b158e945ef845a954375ed39f6",
       "version_major": 2,
       "version_minor": 0
      },
      "text/plain": [
       "Export report to file:   0%|          | 0/1 [00:00<?, ?it/s]"
      ]
     },
     "metadata": {},
     "output_type": "display_data"
    },
    {
     "data": {
      "application/vnd.jupyter.widget-view+json": {
       "model_id": "8a1be14d5a2f4181912f011b899d0f0c",
       "version_major": 2,
       "version_minor": 0
      },
      "text/plain": [
       "Summarize dataset:   0%|          | 0/5 [00:00<?, ?it/s]"
      ]
     },
     "metadata": {},
     "output_type": "display_data"
    },
    {
     "name": "stderr",
     "output_type": "stream",
     "text": [
      "\n",
      "  0%|                                                                 | 0/28 [00:00<?, ?it/s]\u001b[A\n",
      " 25%|██████████████▎                                          | 7/28 [00:00<00:00, 66.55it/s]\u001b[A\n",
      " 50%|████████████████████████████                            | 14/28 [00:00<00:00, 54.88it/s]\u001b[A\n",
      "100%|████████████████████████████████████████████████████████| 28/28 [00:00<00:00, 67.40it/s]\u001b[A\n"
     ]
    },
    {
     "data": {
      "application/vnd.jupyter.widget-view+json": {
       "model_id": "c9415d88b1c9431ca5355e0b5d8469fa",
       "version_major": 2,
       "version_minor": 0
      },
      "text/plain": [
       "Generate report structure:   0%|          | 0/1 [00:00<?, ?it/s]"
      ]
     },
     "metadata": {},
     "output_type": "display_data"
    },
    {
     "data": {
      "application/vnd.jupyter.widget-view+json": {
       "model_id": "a3de064cca964eb99905f4000de8b14e",
       "version_major": 2,
       "version_minor": 0
      },
      "text/plain": [
       "Render HTML:   0%|          | 0/1 [00:00<?, ?it/s]"
      ]
     },
     "metadata": {},
     "output_type": "display_data"
    },
    {
     "data": {
      "application/vnd.jupyter.widget-view+json": {
       "model_id": "559e52e0df404de3a221904b6eaeeca2",
       "version_major": 2,
       "version_minor": 0
      },
      "text/plain": [
       "Export report to file:   0%|          | 0/1 [00:00<?, ?it/s]"
      ]
     },
     "metadata": {},
     "output_type": "display_data"
    },
    {
     "data": {
      "application/vnd.jupyter.widget-view+json": {
       "model_id": "b779fff37f2a469baed3099b3163a866",
       "version_major": 2,
       "version_minor": 0
      },
      "text/plain": [
       "Summarize dataset:   0%|          | 0/5 [00:00<?, ?it/s]"
      ]
     },
     "metadata": {},
     "output_type": "display_data"
    },
    {
     "name": "stderr",
     "output_type": "stream",
     "text": [
      "\n",
      "  0%|                                                                 | 0/28 [00:00<?, ?it/s]\u001b[A\n",
      " 29%|████████████████▎                                        | 8/28 [00:00<00:00, 74.39it/s]\u001b[A\n",
      " 57%|████████████████████████████████                        | 16/28 [00:00<00:00, 56.69it/s]\u001b[A\n",
      "100%|████████████████████████████████████████████████████████| 28/28 [00:00<00:00, 65.64it/s]\u001b[A\n"
     ]
    },
    {
     "data": {
      "application/vnd.jupyter.widget-view+json": {
       "model_id": "bcd84135ba704f30899e11760a052d3f",
       "version_major": 2,
       "version_minor": 0
      },
      "text/plain": [
       "Generate report structure:   0%|          | 0/1 [00:00<?, ?it/s]"
      ]
     },
     "metadata": {},
     "output_type": "display_data"
    },
    {
     "data": {
      "application/vnd.jupyter.widget-view+json": {
       "model_id": "cce98f9dfeb241ecb40ed55e3e3c4e9c",
       "version_major": 2,
       "version_minor": 0
      },
      "text/plain": [
       "Render HTML:   0%|          | 0/1 [00:00<?, ?it/s]"
      ]
     },
     "metadata": {},
     "output_type": "display_data"
    },
    {
     "data": {
      "application/vnd.jupyter.widget-view+json": {
       "model_id": "d0d8ddd9fe644df3bcb546d8a502372f",
       "version_major": 2,
       "version_minor": 0
      },
      "text/plain": [
       "Export report to file:   0%|          | 0/1 [00:00<?, ?it/s]"
      ]
     },
     "metadata": {},
     "output_type": "display_data"
    },
    {
     "data": {
      "application/vnd.jupyter.widget-view+json": {
       "model_id": "7c15dcba09854bebafa92498781069fc",
       "version_major": 2,
       "version_minor": 0
      },
      "text/plain": [
       "Summarize dataset:   0%|          | 0/5 [00:00<?, ?it/s]"
      ]
     },
     "metadata": {},
     "output_type": "display_data"
    },
    {
     "name": "stderr",
     "output_type": "stream",
     "text": [
      "\n",
      "  0%|                                                                 | 0/28 [00:00<?, ?it/s]\u001b[A\n",
      " 29%|████████████████▎                                        | 8/28 [00:00<00:00, 71.26it/s]\u001b[A\n",
      " 57%|████████████████████████████████                        | 16/28 [00:00<00:00, 54.31it/s]\u001b[A\n",
      "100%|████████████████████████████████████████████████████████| 28/28 [00:00<00:00, 64.99it/s]\u001b[A\n"
     ]
    },
    {
     "data": {
      "application/vnd.jupyter.widget-view+json": {
       "model_id": "aec598d9b50c49efa21a985665e43880",
       "version_major": 2,
       "version_minor": 0
      },
      "text/plain": [
       "Generate report structure:   0%|          | 0/1 [00:00<?, ?it/s]"
      ]
     },
     "metadata": {},
     "output_type": "display_data"
    },
    {
     "data": {
      "application/vnd.jupyter.widget-view+json": {
       "model_id": "ff1701b3905541a6bda7474f619cf748",
       "version_major": 2,
       "version_minor": 0
      },
      "text/plain": [
       "Render HTML:   0%|          | 0/1 [00:00<?, ?it/s]"
      ]
     },
     "metadata": {},
     "output_type": "display_data"
    },
    {
     "data": {
      "application/vnd.jupyter.widget-view+json": {
       "model_id": "b51aa21d5d0940ec945cea02fcdee883",
       "version_major": 2,
       "version_minor": 0
      },
      "text/plain": [
       "Export report to file:   0%|          | 0/1 [00:00<?, ?it/s]"
      ]
     },
     "metadata": {},
     "output_type": "display_data"
    },
    {
     "data": {
      "application/vnd.jupyter.widget-view+json": {
       "model_id": "9d9aa931ed364c17b1cffbc77318afc0",
       "version_major": 2,
       "version_minor": 0
      },
      "text/plain": [
       "Summarize dataset:   0%|          | 0/5 [00:00<?, ?it/s]"
      ]
     },
     "metadata": {},
     "output_type": "display_data"
    },
    {
     "name": "stderr",
     "output_type": "stream",
     "text": [
      "\n",
      "  0%|                                                                 | 0/28 [00:00<?, ?it/s]\u001b[A\n",
      " 29%|████████████████▎                                        | 8/28 [00:00<00:00, 74.77it/s]\u001b[A\n",
      " 57%|████████████████████████████████                        | 16/28 [00:00<00:00, 50.99it/s]\u001b[A\n",
      "100%|████████████████████████████████████████████████████████| 28/28 [00:00<00:00, 58.38it/s]\u001b[A\n"
     ]
    },
    {
     "data": {
      "application/vnd.jupyter.widget-view+json": {
       "model_id": "e38557056bd440aeb05303878b0b8496",
       "version_major": 2,
       "version_minor": 0
      },
      "text/plain": [
       "Generate report structure:   0%|          | 0/1 [00:00<?, ?it/s]"
      ]
     },
     "metadata": {},
     "output_type": "display_data"
    },
    {
     "data": {
      "application/vnd.jupyter.widget-view+json": {
       "model_id": "803612546805442096da59924407df1b",
       "version_major": 2,
       "version_minor": 0
      },
      "text/plain": [
       "Render HTML:   0%|          | 0/1 [00:00<?, ?it/s]"
      ]
     },
     "metadata": {},
     "output_type": "display_data"
    },
    {
     "data": {
      "application/vnd.jupyter.widget-view+json": {
       "model_id": "b4d04c9bd4d246fe81b25cc1a93971e0",
       "version_major": 2,
       "version_minor": 0
      },
      "text/plain": [
       "Export report to file:   0%|          | 0/1 [00:00<?, ?it/s]"
      ]
     },
     "metadata": {},
     "output_type": "display_data"
    },
    {
     "data": {
      "application/vnd.jupyter.widget-view+json": {
       "model_id": "d30566d6c8b04fb182c9e684be1bc9ab",
       "version_major": 2,
       "version_minor": 0
      },
      "text/plain": [
       "Summarize dataset:   0%|          | 0/5 [00:00<?, ?it/s]"
      ]
     },
     "metadata": {},
     "output_type": "display_data"
    },
    {
     "name": "stderr",
     "output_type": "stream",
     "text": [
      "\n",
      "  0%|                                                                 | 0/28 [00:00<?, ?it/s]\u001b[A\n",
      " 32%|██████████████████▎                                      | 9/28 [00:00<00:00, 76.74it/s]\u001b[A\n",
      " 61%|██████████████████████████████████                      | 17/28 [00:00<00:00, 67.85it/s]\u001b[A\n",
      "100%|████████████████████████████████████████████████████████| 28/28 [00:00<00:00, 68.07it/s]\u001b[A\n"
     ]
    },
    {
     "data": {
      "application/vnd.jupyter.widget-view+json": {
       "model_id": "23c2ea63e27c4ad79c0215d9bcfc911a",
       "version_major": 2,
       "version_minor": 0
      },
      "text/plain": [
       "Generate report structure:   0%|          | 0/1 [00:00<?, ?it/s]"
      ]
     },
     "metadata": {},
     "output_type": "display_data"
    },
    {
     "data": {
      "application/vnd.jupyter.widget-view+json": {
       "model_id": "0ac938ff520c4bbf96265069c91247b7",
       "version_major": 2,
       "version_minor": 0
      },
      "text/plain": [
       "Render HTML:   0%|          | 0/1 [00:00<?, ?it/s]"
      ]
     },
     "metadata": {},
     "output_type": "display_data"
    },
    {
     "data": {
      "application/vnd.jupyter.widget-view+json": {
       "model_id": "21448ddc487146c183db5b0bc0307d54",
       "version_major": 2,
       "version_minor": 0
      },
      "text/plain": [
       "Export report to file:   0%|          | 0/1 [00:00<?, ?it/s]"
      ]
     },
     "metadata": {},
     "output_type": "display_data"
    },
    {
     "data": {
      "application/vnd.jupyter.widget-view+json": {
       "model_id": "a733c9f38b5942faa807df99795b252c",
       "version_major": 2,
       "version_minor": 0
      },
      "text/plain": [
       "Summarize dataset:   0%|          | 0/5 [00:00<?, ?it/s]"
      ]
     },
     "metadata": {},
     "output_type": "display_data"
    },
    {
     "name": "stderr",
     "output_type": "stream",
     "text": [
      "\n",
      "  0%|                                                                 | 0/28 [00:00<?, ?it/s]\u001b[A\n",
      " 29%|████████████████▎                                        | 8/28 [00:00<00:00, 69.33it/s]\u001b[A\n",
      " 54%|██████████████████████████████                          | 15/28 [00:00<00:00, 60.72it/s]\u001b[A\n",
      "100%|████████████████████████████████████████████████████████| 28/28 [00:00<00:00, 54.70it/s]\u001b[A\n"
     ]
    },
    {
     "data": {
      "application/vnd.jupyter.widget-view+json": {
       "model_id": "38a76c11d645495080168854fd2bbc4d",
       "version_major": 2,
       "version_minor": 0
      },
      "text/plain": [
       "Generate report structure:   0%|          | 0/1 [00:00<?, ?it/s]"
      ]
     },
     "metadata": {},
     "output_type": "display_data"
    },
    {
     "data": {
      "application/vnd.jupyter.widget-view+json": {
       "model_id": "dc993a3b05cc4f94befced39e879525c",
       "version_major": 2,
       "version_minor": 0
      },
      "text/plain": [
       "Render HTML:   0%|          | 0/1 [00:00<?, ?it/s]"
      ]
     },
     "metadata": {},
     "output_type": "display_data"
    },
    {
     "data": {
      "application/vnd.jupyter.widget-view+json": {
       "model_id": "504e7147e42b4a8aaa012c6baeede7e6",
       "version_major": 2,
       "version_minor": 0
      },
      "text/plain": [
       "Export report to file:   0%|          | 0/1 [00:00<?, ?it/s]"
      ]
     },
     "metadata": {},
     "output_type": "display_data"
    },
    {
     "data": {
      "application/vnd.jupyter.widget-view+json": {
       "model_id": "d4d5ba3d1e5040d2bb414c8779c68051",
       "version_major": 2,
       "version_minor": 0
      },
      "text/plain": [
       "Summarize dataset:   0%|          | 0/5 [00:00<?, ?it/s]"
      ]
     },
     "metadata": {},
     "output_type": "display_data"
    },
    {
     "name": "stderr",
     "output_type": "stream",
     "text": [
      "\n",
      "  0%|                                                                 | 0/28 [00:00<?, ?it/s]\u001b[A\n",
      " 29%|████████████████▎                                        | 8/28 [00:00<00:00, 78.37it/s]\u001b[A\n",
      " 57%|████████████████████████████████                        | 16/28 [00:00<00:00, 66.86it/s]\u001b[A\n",
      "100%|████████████████████████████████████████████████████████| 28/28 [00:00<00:00, 66.24it/s]\u001b[A\n"
     ]
    },
    {
     "data": {
      "application/vnd.jupyter.widget-view+json": {
       "model_id": "68fedf1d9ac048a0b528141c16c5f9c8",
       "version_major": 2,
       "version_minor": 0
      },
      "text/plain": [
       "Generate report structure:   0%|          | 0/1 [00:00<?, ?it/s]"
      ]
     },
     "metadata": {},
     "output_type": "display_data"
    },
    {
     "data": {
      "application/vnd.jupyter.widget-view+json": {
       "model_id": "7403d663e08741489a814117baceea05",
       "version_major": 2,
       "version_minor": 0
      },
      "text/plain": [
       "Render HTML:   0%|          | 0/1 [00:00<?, ?it/s]"
      ]
     },
     "metadata": {},
     "output_type": "display_data"
    },
    {
     "data": {
      "application/vnd.jupyter.widget-view+json": {
       "model_id": "50e4b871580641e48305a76e77ac86c7",
       "version_major": 2,
       "version_minor": 0
      },
      "text/plain": [
       "Export report to file:   0%|          | 0/1 [00:00<?, ?it/s]"
      ]
     },
     "metadata": {},
     "output_type": "display_data"
    },
    {
     "data": {
      "application/vnd.jupyter.widget-view+json": {
       "model_id": "a0dfd97cb2044ed0a1eed17cdf0af35d",
       "version_major": 2,
       "version_minor": 0
      },
      "text/plain": [
       "Summarize dataset:   0%|          | 0/5 [00:00<?, ?it/s]"
      ]
     },
     "metadata": {},
     "output_type": "display_data"
    },
    {
     "name": "stderr",
     "output_type": "stream",
     "text": [
      "\n",
      "  0%|                                                                 | 0/28 [00:00<?, ?it/s]\u001b[A\n",
      " 29%|████████████████▎                                        | 8/28 [00:00<00:00, 63.76it/s]\u001b[A\n",
      " 54%|██████████████████████████████                          | 15/28 [00:00<00:00, 55.92it/s]\u001b[A\n",
      " 75%|██████████████████████████████████████████              | 21/28 [00:00<00:00, 52.70it/s]\u001b[A\n",
      "100%|████████████████████████████████████████████████████████| 28/28 [00:00<00:00, 56.29it/s]\u001b[A\n"
     ]
    },
    {
     "data": {
      "application/vnd.jupyter.widget-view+json": {
       "model_id": "0bf3422539b24c2090a969b0aa6e2bbb",
       "version_major": 2,
       "version_minor": 0
      },
      "text/plain": [
       "Generate report structure:   0%|          | 0/1 [00:00<?, ?it/s]"
      ]
     },
     "metadata": {},
     "output_type": "display_data"
    },
    {
     "data": {
      "application/vnd.jupyter.widget-view+json": {
       "model_id": "a6a1c8f96a4e49c68c57144ae5abebd2",
       "version_major": 2,
       "version_minor": 0
      },
      "text/plain": [
       "Render HTML:   0%|          | 0/1 [00:00<?, ?it/s]"
      ]
     },
     "metadata": {},
     "output_type": "display_data"
    },
    {
     "data": {
      "application/vnd.jupyter.widget-view+json": {
       "model_id": "43648e076fc94b6ea2af6c44f76bb496",
       "version_major": 2,
       "version_minor": 0
      },
      "text/plain": [
       "Export report to file:   0%|          | 0/1 [00:00<?, ?it/s]"
      ]
     },
     "metadata": {},
     "output_type": "display_data"
    },
    {
     "data": {
      "application/vnd.jupyter.widget-view+json": {
       "model_id": "278e1118ad7d420085fa6189e7313b3d",
       "version_major": 2,
       "version_minor": 0
      },
      "text/plain": [
       "Summarize dataset:   0%|          | 0/5 [00:00<?, ?it/s]"
      ]
     },
     "metadata": {},
     "output_type": "display_data"
    },
    {
     "name": "stderr",
     "output_type": "stream",
     "text": [
      "\n",
      "  0%|                                                                 | 0/28 [00:00<?, ?it/s]\u001b[A\n",
      " 29%|████████████████▎                                        | 8/28 [00:00<00:00, 77.95it/s]\u001b[A\n",
      " 57%|████████████████████████████████                        | 16/28 [00:00<00:00, 57.77it/s]\u001b[A\n",
      "100%|████████████████████████████████████████████████████████| 28/28 [00:00<00:00, 56.72it/s]\u001b[A\n"
     ]
    },
    {
     "data": {
      "application/vnd.jupyter.widget-view+json": {
       "model_id": "71ac8acca526408c8f91893c7bafe054",
       "version_major": 2,
       "version_minor": 0
      },
      "text/plain": [
       "Generate report structure:   0%|          | 0/1 [00:00<?, ?it/s]"
      ]
     },
     "metadata": {},
     "output_type": "display_data"
    },
    {
     "data": {
      "application/vnd.jupyter.widget-view+json": {
       "model_id": "2514f46550d347dea70cd4891f2b27d0",
       "version_major": 2,
       "version_minor": 0
      },
      "text/plain": [
       "Render HTML:   0%|          | 0/1 [00:00<?, ?it/s]"
      ]
     },
     "metadata": {},
     "output_type": "display_data"
    },
    {
     "data": {
      "application/vnd.jupyter.widget-view+json": {
       "model_id": "378b989c0bfa43668721dc8f6e161d64",
       "version_major": 2,
       "version_minor": 0
      },
      "text/plain": [
       "Export report to file:   0%|          | 0/1 [00:00<?, ?it/s]"
      ]
     },
     "metadata": {},
     "output_type": "display_data"
    },
    {
     "data": {
      "application/vnd.jupyter.widget-view+json": {
       "model_id": "10b4fd08b55c4f68b2d272d582fde096",
       "version_major": 2,
       "version_minor": 0
      },
      "text/plain": [
       "Summarize dataset:   0%|          | 0/5 [00:00<?, ?it/s]"
      ]
     },
     "metadata": {},
     "output_type": "display_data"
    },
    {
     "name": "stderr",
     "output_type": "stream",
     "text": [
      "\n",
      "  0%|                                                                 | 0/28 [00:00<?, ?it/s]\u001b[A\n",
      " 29%|████████████████▎                                        | 8/28 [00:00<00:00, 76.29it/s]\u001b[A\n",
      " 57%|████████████████████████████████                        | 16/28 [00:00<00:00, 50.66it/s]\u001b[A\n",
      "100%|████████████████████████████████████████████████████████| 28/28 [00:00<00:00, 67.02it/s]\u001b[A\n"
     ]
    },
    {
     "data": {
      "application/vnd.jupyter.widget-view+json": {
       "model_id": "88c565dbc14a482ea133ba9239a44a1e",
       "version_major": 2,
       "version_minor": 0
      },
      "text/plain": [
       "Generate report structure:   0%|          | 0/1 [00:00<?, ?it/s]"
      ]
     },
     "metadata": {},
     "output_type": "display_data"
    },
    {
     "data": {
      "application/vnd.jupyter.widget-view+json": {
       "model_id": "e25d5487ae624770883362e55937b099",
       "version_major": 2,
       "version_minor": 0
      },
      "text/plain": [
       "Render HTML:   0%|          | 0/1 [00:00<?, ?it/s]"
      ]
     },
     "metadata": {},
     "output_type": "display_data"
    },
    {
     "data": {
      "application/vnd.jupyter.widget-view+json": {
       "model_id": "7275469240ed4c118c82043cecba9a75",
       "version_major": 2,
       "version_minor": 0
      },
      "text/plain": [
       "Export report to file:   0%|          | 0/1 [00:00<?, ?it/s]"
      ]
     },
     "metadata": {},
     "output_type": "display_data"
    },
    {
     "data": {
      "application/vnd.jupyter.widget-view+json": {
       "model_id": "9fc012b1e892488c87a059c0beac1a5e",
       "version_major": 2,
       "version_minor": 0
      },
      "text/plain": [
       "Summarize dataset:   0%|          | 0/5 [00:00<?, ?it/s]"
      ]
     },
     "metadata": {},
     "output_type": "display_data"
    },
    {
     "name": "stderr",
     "output_type": "stream",
     "text": [
      "\n",
      "  0%|                                                                 | 0/28 [00:00<?, ?it/s]\u001b[A\n",
      " 21%|████████████▏                                            | 6/28 [00:00<00:00, 59.10it/s]\u001b[A\n",
      " 43%|████████████████████████                                | 12/28 [00:00<00:00, 52.23it/s]\u001b[A\n",
      " 64%|████████████████████████████████████                    | 18/28 [00:00<00:00, 52.02it/s]\u001b[A\n",
      "100%|████████████████████████████████████████████████████████| 28/28 [00:00<00:00, 52.77it/s]\u001b[A\n"
     ]
    },
    {
     "data": {
      "application/vnd.jupyter.widget-view+json": {
       "model_id": "d2b033dd062c4d149d9e18371065876e",
       "version_major": 2,
       "version_minor": 0
      },
      "text/plain": [
       "Generate report structure:   0%|          | 0/1 [00:00<?, ?it/s]"
      ]
     },
     "metadata": {},
     "output_type": "display_data"
    },
    {
     "data": {
      "application/vnd.jupyter.widget-view+json": {
       "model_id": "de7e06a01cf748708683aab6f922f8f7",
       "version_major": 2,
       "version_minor": 0
      },
      "text/plain": [
       "Render HTML:   0%|          | 0/1 [00:00<?, ?it/s]"
      ]
     },
     "metadata": {},
     "output_type": "display_data"
    },
    {
     "data": {
      "application/vnd.jupyter.widget-view+json": {
       "model_id": "522355b40a8548b1a559c755614f7b63",
       "version_major": 2,
       "version_minor": 0
      },
      "text/plain": [
       "Export report to file:   0%|          | 0/1 [00:00<?, ?it/s]"
      ]
     },
     "metadata": {},
     "output_type": "display_data"
    },
    {
     "data": {
      "application/vnd.jupyter.widget-view+json": {
       "model_id": "31ee06e68c73442aa97a4f89d9c1c0cf",
       "version_major": 2,
       "version_minor": 0
      },
      "text/plain": [
       "Summarize dataset:   0%|          | 0/5 [00:00<?, ?it/s]"
      ]
     },
     "metadata": {},
     "output_type": "display_data"
    },
    {
     "name": "stderr",
     "output_type": "stream",
     "text": [
      "\n",
      "  0%|                                                                 | 0/28 [00:00<?, ?it/s]\u001b[A\n",
      " 29%|████████████████▎                                        | 8/28 [00:00<00:00, 70.85it/s]\u001b[A\n",
      " 57%|████████████████████████████████                        | 16/28 [00:00<00:00, 62.27it/s]\u001b[A\n",
      "100%|████████████████████████████████████████████████████████| 28/28 [00:00<00:00, 66.24it/s]\u001b[A\n"
     ]
    },
    {
     "data": {
      "application/vnd.jupyter.widget-view+json": {
       "model_id": "a1e0c011ffcf4cc0921f29f758cc9ee3",
       "version_major": 2,
       "version_minor": 0
      },
      "text/plain": [
       "Generate report structure:   0%|          | 0/1 [00:00<?, ?it/s]"
      ]
     },
     "metadata": {},
     "output_type": "display_data"
    },
    {
     "data": {
      "application/vnd.jupyter.widget-view+json": {
       "model_id": "5fee62e875a34937b4a2532cfcb63600",
       "version_major": 2,
       "version_minor": 0
      },
      "text/plain": [
       "Render HTML:   0%|          | 0/1 [00:00<?, ?it/s]"
      ]
     },
     "metadata": {},
     "output_type": "display_data"
    },
    {
     "data": {
      "application/vnd.jupyter.widget-view+json": {
       "model_id": "bc5b8ab784d04549b78ca6db62c22203",
       "version_major": 2,
       "version_minor": 0
      },
      "text/plain": [
       "Export report to file:   0%|          | 0/1 [00:00<?, ?it/s]"
      ]
     },
     "metadata": {},
     "output_type": "display_data"
    },
    {
     "name": "stdout",
     "output_type": "stream",
     "text": [
      "22.7 s ± 61.1 ms per loop (mean ± std. dev. of 7 runs, 1 loop each)\n"
     ]
    }
   ],
   "source": [
    "%%timeit\n",
    "#EDA & Profiling\n",
    "#Drop geometry to avoid huge profiles\n",
    "gdf_part1_no_geom = gdf_part1.drop(columns=[\"geometry\"])\n",
    "gdf_part2_no_geom = gdf_part2.drop(columns=[\"geometry\"])\n",
    "\n",
    "profile_part1 = ProfileReport(gdf_part1_no_geom, title=\"Mammals Part1 Profile Report\", minimal=True)\n",
    "profile_part1.to_file(\"/mnt/data/eda-job/notebooks/part1_profile.html\")\n",
    "\n",
    "profile_part2 = ProfileReport(gdf_part2_no_geom, title=\"Mammals Part2 Profile Report\", minimal=True)\n",
    "profile_part2.to_file(\"/mnt/data/eda-job/notebooks/part2_profile.html\")"
   ]
  },
  {
   "cell_type": "code",
   "execution_count": 16,
   "id": "5ffb09f1",
   "metadata": {},
   "outputs": [
    {
     "name": "stdout",
     "output_type": "stream",
     "text": [
      "EPSG:4326\n",
      "EPSG:4326\n",
      "CPU times: user 247 μs, sys: 1e+03 ns, total: 248 μs\n",
      "Wall time: 232 μs\n"
     ]
    }
   ],
   "source": [
    "%%time\n",
    "#Confirm Coordinate Reference Systems\n",
    "# Both layers should ideally have the same CRS before merging\n",
    "print(gdf_part1.crs)\n",
    "print(gdf_part2.crs)"
   ]
  },
  {
   "cell_type": "code",
   "execution_count": 6,
   "id": "4b238a10",
   "metadata": {},
   "outputs": [
    {
     "name": "stdout",
     "output_type": "stream",
     "text": [
      "(13206, 17) (13178, 17)\n",
      "CPU times: user 12.6 ms, sys: 993 μs, total: 13.6 ms\n",
      "Wall time: 14.4 ms\n"
     ]
    }
   ],
   "source": [
    "%%time\n",
    "#Drop irrelevant columns\n",
    "columns_to_drop = [\n",
    "    'origin', 'seasonal', 'compiler', 'subspecies', 'subpop', 'source', 'island',\n",
    "    'tax_comm', 'dist_comm', 'generalisd', 'SHAPE_Leng', 'SHAPE_Area'\n",
    "]\n",
    "gdf_part1_clean = gdf_part1.drop(columns=columns_to_drop)\n",
    "gdf_part2_clean = gdf_part2.drop(columns=columns_to_drop)\n",
    "print(gdf_part1_clean.shape, gdf_part2_clean.shape)"
   ]
  },
  {
   "cell_type": "code",
   "execution_count": 7,
   "id": "c08a81ff",
   "metadata": {},
   "outputs": [
    {
     "name": "stdout",
     "output_type": "stream",
     "text": [
      "Part1 duplicates: 6615\n",
      "Part2 duplicates: 6591\n",
      "CPU times: user 17.3 s, sys: 1.52 s, total: 18.9 s\n",
      "Wall time: 18.7 s\n"
     ]
    }
   ],
   "source": [
    "%%time\n",
    "#Detect duplicates\n",
    "print(\"Part1 duplicates:\", gdf_part1_clean.duplicated().sum())\n",
    "print(\"Part2 duplicates:\", gdf_part2_clean.duplicated().sum())"
   ]
  },
  {
   "cell_type": "markdown",
   "id": "e39a911e",
   "metadata": {},
   "source": [
    "**This ensures we retain the most recent and presumably most accurate observation, avoiding outdated or redundant entries that could skew mapping.**"
   ]
  },
  {
   "cell_type": "code",
   "execution_count": 8,
   "id": "d5c61556",
   "metadata": {},
   "outputs": [
    {
     "name": "stdout",
     "output_type": "stream",
     "text": [
      "CPU times: user 17.1 s, sys: 646 ms, total: 17.8 s\n",
      "Wall time: 17.6 s\n"
     ]
    }
   ],
   "source": [
    "%%time\n",
    "#Keep only latest record per species\n",
    "gdf_latest = gdf_part1_clean.sort_values('yrcompiled').drop_duplicates(\n",
    "    subset=['id_no', 'geometry'], keep='last')\n",
    "gdf_latest_2 = gdf_part2_clean.sort_values('yrcompiled').drop_duplicates(\n",
    "    subset=['id_no', 'geometry'], keep='last')"
   ]
  },
  {
   "cell_type": "code",
   "execution_count": 17,
   "id": "2925c3b4",
   "metadata": {},
   "outputs": [
    {
     "name": "stdout",
     "output_type": "stream",
     "text": [
      "category\n",
      "LC    4069\n",
      "VU     803\n",
      "NT     550\n",
      "EN     527\n",
      "DD     453\n",
      "CR     175\n",
      "EX      12\n",
      "EW       2\n",
      "Name: count, dtype: int64\n",
      "category\n",
      "LC    4003\n",
      "VU     822\n",
      "EN     524\n",
      "DD     508\n",
      "NT     503\n",
      "CR     222\n",
      "EX       5\n",
      "Name: count, dtype: int64\n",
      "Unique species in part1: 2960\n",
      "Unique species in part2: 2968\n",
      "CPU times: user 8.84 ms, sys: 999 μs, total: 9.84 ms\n",
      "Wall time: 8.67 ms\n"
     ]
    }
   ],
   "source": [
    "%%time\n",
    "#Quick exploration of categories and species diversity\n",
    "print(gdf_latest['category'].value_counts())\n",
    "print(gdf_latest_2['category'].value_counts())\n",
    "print(\"Unique species in part1:\", gdf_latest['sci_name'].nunique())\n",
    "print(\"Unique species in part2:\", gdf_latest_2['sci_name'].nunique())"
   ]
  },
  {
   "cell_type": "markdown",
   "id": "28331b9c",
   "metadata": {},
   "source": [
    "#### Define conservation status categories to filter species for the frontend map:\n",
    "- Define conservation status categories to filter species for the frontend map:\n",
    "- CR (Critically Endangered) – highest risk, urgent conservation priority (“red alert”)\n",
    "- EN (Endangered) – serious threat, needs close monitoring and action\n",
    "- VU (Vulnerable) – species at risk but not yet critical\n",
    "- NT (Near Threatened) – could soon become vulnerable if trends worsen\n",
    "- EX (Extinct) & EW (Extinct in the Wild) – rare cases, better highlighted in stories than cluttering the map\n",
    "- LC (Least Concern) is excluded here because including thousands of low-risk species would flood the map and reduce clarity"
   ]
  },
  {
   "cell_type": "code",
   "execution_count": 9,
   "id": "9bb822c3",
   "metadata": {},
   "outputs": [
    {
     "name": "stdout",
     "output_type": "stream",
     "text": [
      "(2069, 17) (2076, 17)\n",
      "CPU times: user 11.1 ms, sys: 8 μs, total: 11.1 ms\n",
      "Wall time: 10.3 ms\n"
     ]
    }
   ],
   "source": [
    "%%time\n",
    "#Filter threatened species for frontend map \n",
    "threatened_cats = ['CR', 'EN', 'VU', 'NT', 'EX', 'EW']  # categories of interest\n",
    "gdf_frontend_1 = gdf_latest[gdf_latest['category'].isin(threatened_cats)].copy()\n",
    "gdf_frontend_2 = gdf_latest_2[gdf_latest_2['category'].isin(threatened_cats)].copy()\n",
    "print(gdf_frontend_1.shape, gdf_frontend_2.shape)"
   ]
  },
  {
   "cell_type": "code",
   "execution_count": 10,
   "id": "ae0be631",
   "metadata": {},
   "outputs": [
    {
     "name": "stdout",
     "output_type": "stream",
     "text": [
      "Common species count: 0\n",
      "Species only in part1: 892\n",
      "Species only in part2: 878\n",
      "CPU times: user 728 μs, sys: 973 μs, total: 1.7 ms\n",
      "Wall time: 1.71 ms\n"
     ]
    }
   ],
   "source": [
    "%%time\n",
    "#Compare species between part1 and part2\n",
    "set1 = set(gdf_frontend_1['sci_name'])\n",
    "set2 = set(gdf_frontend_2['sci_name'])\n",
    "common_species = set1.intersection(set2)\n",
    "print(f\"Common species count: {len(common_species)}\")\n",
    "print(f\"Species only in part1: {len(set1 - set2)}\")\n",
    "print(f\"Species only in part2: {len(set2 - set1)}\")"
   ]
  },
  {
   "cell_type": "code",
   "execution_count": 11,
   "id": "68415f45",
   "metadata": {},
   "outputs": [
    {
     "name": "stdout",
     "output_type": "stream",
     "text": [
      "(4145, 17)\n",
      "CPU times: user 3.83 ms, sys: 0 ns, total: 3.83 ms\n",
      "Wall time: 3.46 ms\n"
     ]
    }
   ],
   "source": [
    "%%time\n",
    "#Merge both datasets for final GeoJSON output \n",
    "gdf_frontend = gpd.GeoDataFrame(\n",
    "    pd.concat([gdf_frontend_1, gdf_frontend_2], ignore_index=True),\n",
    "    crs=gdf_frontend_1.crs)\n",
    "print(gdf_frontend.shape)"
   ]
  },
  {
   "cell_type": "code",
   "execution_count": 12,
   "id": "5dc4fc96",
   "metadata": {},
   "outputs": [
    {
     "name": "stdout",
     "output_type": "stream",
     "text": [
      "CPU times: user 1min 47s, sys: 36.7 ms, total: 1min 47s\n",
      "Wall time: 1min 47s\n"
     ]
    }
   ],
   "source": [
    "%%time\n",
    "# Simplify geometries to reduce file size and speed up rendering on the frontend.\n",
    "# Tolerance of 0.01 degrees (~1 km at the equator) strikes a balance:\n",
    "# enough detail to represent shapes meaningfully, but light enough for smooth map interaction.\n",
    "# preserve_topology=True prevents creating invalid geometries during simplification.\n",
    "gdf_frontend['geometry'] = gdf_frontend['geometry'].simplify(0.01, preserve_topology=True)"
   ]
  },
  {
   "cell_type": "code",
   "execution_count": 13,
   "id": "6bb46345",
   "metadata": {},
   "outputs": [
    {
     "name": "stdout",
     "output_type": "stream",
     "text": [
      "CPU times: user 27 ms, sys: 3.98 ms, total: 30.9 ms\n",
      "Wall time: 28.7 ms\n"
     ]
    }
   ],
   "source": [
    "%%time\n",
    "#Create historical tabular dataset for analysis\n",
    "#Combine full cleaned datasets (all years, no geometry)\n",
    "df_hist_part1 = gdf_part1_clean.drop(columns='geometry')\n",
    "df_hist_part2 = gdf_part2_clean.drop(columns='geometry')\n",
    "\n",
    "df_historical = pd.concat([df_hist_part1, df_hist_part2], ignore_index=True)"
   ]
  },
  {
   "cell_type": "code",
   "execution_count": 14,
   "id": "bee2ad23",
   "metadata": {},
   "outputs": [
    {
     "name": "stdout",
     "output_type": "stream",
     "text": [
      "CPU times: user 21.4 s, sys: 161 ms, total: 21.5 s\n",
      "Wall time: 21.4 s\n"
     ]
    }
   ],
   "source": [
    "%%time\n",
    "output_dir = \"/mnt/data/eda-job/data\"\n",
    "os.makedirs(output_dir, exist_ok=True)\n",
    "\n",
    "#Save as GeoJSON for use in mapping tools \n",
    "gdf_frontend.to_file(f\"{output_dir}/frontend_species_map.geojson\", driver=\"GeoJSON\")\n",
    "#Save historical data as Parquet for fast analytics\n",
    "df_historical.to_parquet(f\"{output_dir}/historical_species_data.parquet\", index=False)"
   ]
  },
  {
   "cell_type": "code",
   "execution_count": null,
   "id": "e6587057-8d00-429f-a61e-4c68493bcf55",
   "metadata": {},
   "outputs": [],
   "source": []
  }
 ],
 "metadata": {
  "kernelspec": {
   "display_name": "Python 3 (ipykernel)",
   "language": "python",
   "name": "python3"
  },
  "language_info": {
   "codemirror_mode": {
    "name": "ipython",
    "version": 3
   },
   "file_extension": ".py",
   "mimetype": "text/x-python",
   "name": "python",
   "nbconvert_exporter": "python",
   "pygments_lexer": "ipython3",
   "version": "3.12.11"
  }
 },
 "nbformat": 4,
 "nbformat_minor": 5
}
