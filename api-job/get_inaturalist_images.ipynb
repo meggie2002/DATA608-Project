{
 "cells": [
  {
   "cell_type": "markdown",
   "id": "7dcf0749-6047-48ac-971c-85a86318834f",
   "metadata": {},
   "source": [
    "##### Setup"
   ]
  },
  {
   "cell_type": "code",
   "execution_count": 1,
   "id": "beb9f225-a370-4265-95d6-28d09d312bf1",
   "metadata": {},
   "outputs": [],
   "source": [
    "import pandas as pd\n",
    "import requests\n",
    "from tqdm import tqdm\n",
    "import time"
   ]
  },
  {
   "cell_type": "markdown",
   "id": "2ab72114-6e73-47f6-9399-9494a1adb601",
   "metadata": {},
   "source": [
    "##### Preview IUCN data"
   ]
  },
  {
   "cell_type": "code",
   "execution_count": 2,
   "id": "e37620f5-ed24-4753-8510-c687ce637cb0",
   "metadata": {},
   "outputs": [
    {
     "name": "stdout",
     "output_type": "stream",
     "text": [
      "<class 'pandas.core.frame.DataFrame'>\n",
      "RangeIndex: 13178 entries, 0 to 13177\n",
      "Data columns (total 1 columns):\n",
      " #   Column    Non-Null Count  Dtype \n",
      "---  ------    --------------  ----- \n",
      " 0   sci_name  13178 non-null  object\n",
      "dtypes: object(1)\n",
      "memory usage: 103.1+ KB\n"
     ]
    },
    {
     "data": {
      "text/plain": [
       "None"
      ]
     },
     "metadata": {},
     "output_type": "display_data"
    }
   ],
   "source": [
    "# Load cleaned IUCN data\n",
    "species_list = pd.read_parquet(\"../clean/cleaned_iucn_mammals.parquet\", columns = [\"sci_name\"])\n",
    "display(species_list.info())\n",
    "species_list = sorted(species_list[\"sci_name\"].dropna().unique())\n"
   ]
  },
  {
   "cell_type": "code",
   "execution_count": 4,
   "id": "179a5635-013f-4762-a9d3-e7b4b9dea124",
   "metadata": {},
   "outputs": [
    {
     "name": "stdout",
     "output_type": "stream",
     "text": [
      "5928\n",
      "['Abditomys Latidens', 'Abeomelomys Sevia', 'Abrawayaomys Chebezi', 'Abrawayaomys Ruschii', 'Abrocoma Bennettii', 'Abrocoma Boliviensis', 'Abrocoma Budini', 'Abrocoma Cinerea', 'Abrocoma Famatina', 'Abrocoma Shistacea']\n"
     ]
    }
   ],
   "source": [
    "print(len(species_list))\n",
    "print(species_list)"
   ]
  },
  {
   "cell_type": "markdown",
   "id": "7164bce1-d146-42f7-8abf-ac50d4a5dc11",
   "metadata": {},
   "source": [
    "##### Get Batches"
   ]
  },
  {
   "cell_type": "code",
   "execution_count": 3,
   "id": "da76648c-4269-44f8-9242-80266035adad",
   "metadata": {},
   "outputs": [],
   "source": [
    "import os\n",
    "import json\n",
    "import random\n",
    "\n",
    "# Constants\n",
    "API_ENDPOINT = \"https://api.inaturalist.org/v1/observations\"\n",
    "BATCH_SIZE = 1000\n",
    "RETRY_WAIT = 60  # seconds to wait on 429\n",
    "GLOBAL_THROTTLE_INTERVAL = 1  # entries\n",
    "GLOBAL_THROTTLE_WAIT = 0.75  # seconds\n",
    "OUTPUT_DIR = \"../clean/inat_batches/\"\n",
    "os.makedirs(OUTPUT_DIR, exist_ok=True)\n",
    "\n",
    "species_list_path = \"../clean/cleaned_iucn_mammals.parquet\"\n",
    "species_df = pd.read_parquet(species_list_path, columns=[\"sci_name\"])\n",
    "species_list = sorted(species_df[\"sci_name\"].str.capitalize().dropna().unique())\n",
    "\n",
    "def fetch_species_data(species):\n",
    "    try:\n",
    "        response = requests.get(API_ENDPOINT, params={\n",
    "            \"taxon_name\": species,\n",
    "            \"iconic_taxa[]\": \"Mammalia\",\n",
    "            \"per_page\": 1,\n",
    "            \"has[]\": \"photos\"\n",
    "        })\n",
    "\n",
    "        # Rate limited\n",
    "        if response.status_code == 429:\n",
    "            return \"RATE_LIMIT\"\n",
    "\n",
    "        response.raise_for_status()\n",
    "        data = response.json()\n",
    "\n",
    "        results = data.get(\"results\", [])\n",
    "        if not results:\n",
    "            return \"MISSING_SPECIES\"\n",
    "\n",
    "        photos = results[0].get(\"photos\", [])\n",
    "        if not photos:\n",
    "            return \"MISSING_PHOTO\"\n",
    "        else:\n",
    "            return photos[0].get(\"url\", None)\n",
    "\n",
    "    except requests.exceptions.RequestException:\n",
    "        return \"ERROR\"\n",
    "    except json.decoder.JSONDecodeError:\n",
    "        return \"JSON_ERROR\"\n",
    "\n",
    "def process_species_batch(start_idx=0, end_idx=BATCH_SIZE, batch_id=0):\n",
    "    batch_species = species_list[start_idx:end_idx]\n",
    "    missing_species = []\n",
    "    species_missing_photos = []\n",
    "    species_with_photos = []\n",
    "\n",
    "    for i, species in enumerate(tqdm(batch_species, desc=f\"Batch {batch_id}\")):\n",
    "        # Global throttle\n",
    "        if i % GLOBAL_THROTTLE_INTERVAL == 0 and i != 0:\n",
    "            time.sleep(GLOBAL_THROTTLE_WAIT + random.uniform(0, 0.25))\n",
    "\n",
    "        result = fetch_species_data(species)\n",
    "\n",
    "        # Retry on rate limit\n",
    "        retries = 0\n",
    "        while result == \"RATE_LIMIT\" and retries < 3:\n",
    "            print(f\"Rate limited. Sleeping {RETRY_WAIT}s before retrying...\")\n",
    "            time.sleep(RETRY_WAIT)\n",
    "            result = fetch_species_data(species)\n",
    "            retries += 1\n",
    "\n",
    "        if result == \"MISSING_SPECIES\":\n",
    "            missing_species.append(species)\n",
    "        elif result == \"MISSING_PHOTO\":\n",
    "            species_missing_photos.append(species)\n",
    "        elif result and isinstance(result, str) and result.startswith(\"http\"):\n",
    "            species_with_photos.append((species, result))\n",
    "        else:\n",
    "            missing_species.append(species)\n",
    "\n",
    "    # Save batch results\n",
    "    pd.DataFrame(missing_species, columns=[\"sci_name\"]).to_csv(f\"{OUTPUT_DIR}missing_species_batch{batch_id}.csv\", index=False)\n",
    "    pd.DataFrame(species_missing_photos, columns=[\"sci_name\"]).to_csv(f\"{OUTPUT_DIR}missing_photos_batch{batch_id}.csv\", index=False)\n",
    "    pd.DataFrame(species_with_photos, columns=[\"sci_name\", \"photo_url\"]).to_csv(f\"{OUTPUT_DIR}species_with_photos_batch{batch_id}.csv\", index=False)\n",
    "\n",
    "    return f\"Batch {batch_id} complete.\"\n",
    "\n",
    "# Utility to process all batches if needed\n",
    "def run_all_batches():\n",
    "    total_batches = len(species_list) // BATCH_SIZE + (len(species_list) % BATCH_SIZE > 0)\n",
    "    for b in range(total_batches):\n",
    "        start = b * BATCH_SIZE\n",
    "        end = min((b + 1) * BATCH_SIZE, len(species_list))\n",
    "        process_species_batch(start, end, b)\n",
    "\n",
    "# Utility to merge batch outputs\n",
    "def merge_all_batches():\n",
    "    from glob import glob\n",
    "\n",
    "    def merge_csvs(pattern, output_name):\n",
    "        files = sorted(glob(f\"{OUTPUT_DIR}{pattern}\"))\n",
    "        dfs = [pd.read_csv(f) for f in files]\n",
    "        final_df = pd.concat(dfs, ignore_index=True)\n",
    "        final_df.drop_duplicates(inplace=True)\n",
    "        final_df.to_csv(f\"{OUTPUT_DIR}{output_name}.csv\", index=False)\n",
    "        return final_df\n",
    "\n",
    "    df1 = merge_csvs(\"missing_species_batch*.csv\", \"all_missing_species\")\n",
    "    df2 = merge_csvs(\"missing_photos_batch*.csv\", \"all_missing_photos\")\n",
    "    df3 = merge_csvs(\"species_with_photos_batch*.csv\", \"all_species_with_photos\")\n",
    "\n",
    "    return df1, df2, df3\n"
   ]
  },
  {
   "cell_type": "code",
   "execution_count": null,
   "id": "11f7d1bf-f4b6-49e7-ab5e-663fd2d95744",
   "metadata": {},
   "outputs": [],
   "source": [
    "run_all_batches()"
   ]
  },
  {
   "cell_type": "code",
   "execution_count": 4,
   "id": "ab04859d-0f94-4e35-b349-e010229e77b1",
   "metadata": {},
   "outputs": [
    {
     "name": "stderr",
     "output_type": "stream",
     "text": [
      "Batch 3: 100%|██████████████████████████████| 1000/1000 [22:32<00:00,  1.35s/it]\n"
     ]
    },
    {
     "data": {
      "text/plain": [
       "'Batch 3 complete.'"
      ]
     },
     "execution_count": 4,
     "metadata": {},
     "output_type": "execute_result"
    }
   ],
   "source": [
    "process_species_batch(start_idx=3000, end_idx=4000, batch_id=3)"
   ]
  },
  {
   "cell_type": "code",
   "execution_count": 5,
   "id": "38c45172-3057-4b28-be2a-73ee6632df6e",
   "metadata": {},
   "outputs": [
    {
     "name": "stderr",
     "output_type": "stream",
     "text": [
      "Batch 4: 100%|██████████████████████████████| 1000/1000 [22:08<00:00,  1.33s/it]\n"
     ]
    },
    {
     "data": {
      "text/plain": [
       "'Batch 4 complete.'"
      ]
     },
     "execution_count": 5,
     "metadata": {},
     "output_type": "execute_result"
    }
   ],
   "source": [
    "process_species_batch(start_idx=4000, end_idx=5000, batch_id=4)"
   ]
  },
  {
   "cell_type": "code",
   "execution_count": 6,
   "id": "7ee94942-b2e2-49b5-873f-3ffa9e43c674",
   "metadata": {},
   "outputs": [
    {
     "name": "stderr",
     "output_type": "stream",
     "text": [
      "Batch 5: 100%|████████████████████████████████| 928/928 [19:33<00:00,  1.26s/it]\n"
     ]
    },
    {
     "data": {
      "text/plain": [
       "'Batch 5 complete.'"
      ]
     },
     "execution_count": 6,
     "metadata": {},
     "output_type": "execute_result"
    }
   ],
   "source": [
    "process_species_batch(start_idx=5000, end_idx=6000, batch_id=5)"
   ]
  },
  {
   "cell_type": "markdown",
   "id": "f1ba1349-2ded-4379-9cac-51d287ae8502",
   "metadata": {},
   "source": [
    "##### Inspect results"
   ]
  },
  {
   "cell_type": "code",
   "execution_count": 7,
   "id": "3b813337-c74b-4ba9-b6aa-b62c2d1a3f05",
   "metadata": {},
   "outputs": [],
   "source": [
    "df_missing_species, df_missing_photos, df_with_photos = merge_all_batches()"
   ]
  },
  {
   "cell_type": "code",
   "execution_count": 8,
   "id": "ac6c875b-a6a9-489b-8961-13a9260380ab",
   "metadata": {},
   "outputs": [
    {
     "name": "stdout",
     "output_type": "stream",
     "text": [
      "<class 'pandas.core.frame.DataFrame'>\n",
      "RangeIndex: 1640 entries, 0 to 1639\n",
      "Data columns (total 1 columns):\n",
      " #   Column    Non-Null Count  Dtype \n",
      "---  ------    --------------  ----- \n",
      " 0   sci_name  1640 non-null   object\n",
      "dtypes: object(1)\n",
      "memory usage: 12.9+ KB\n"
     ]
    }
   ],
   "source": [
    "df_missing_species.info()"
   ]
  },
  {
   "cell_type": "code",
   "execution_count": 9,
   "id": "b30d3b8e-e220-40ba-a25e-4be9d070f2e0",
   "metadata": {},
   "outputs": [
    {
     "name": "stdout",
     "output_type": "stream",
     "text": [
      "<class 'pandas.core.frame.DataFrame'>\n",
      "RangeIndex: 0 entries\n",
      "Data columns (total 1 columns):\n",
      " #   Column    Non-Null Count  Dtype \n",
      "---  ------    --------------  ----- \n",
      " 0   sci_name  0 non-null      object\n",
      "dtypes: object(1)\n",
      "memory usage: 132.0+ bytes\n"
     ]
    }
   ],
   "source": [
    "df_missing_photos.info()"
   ]
  },
  {
   "cell_type": "code",
   "execution_count": 10,
   "id": "2497b81a-f6ba-4ad2-a365-9ab5a4157c52",
   "metadata": {},
   "outputs": [
    {
     "name": "stdout",
     "output_type": "stream",
     "text": [
      "<class 'pandas.core.frame.DataFrame'>\n",
      "RangeIndex: 4288 entries, 0 to 4287\n",
      "Data columns (total 2 columns):\n",
      " #   Column     Non-Null Count  Dtype \n",
      "---  ------     --------------  ----- \n",
      " 0   sci_name   4288 non-null   object\n",
      " 1   photo_url  4288 non-null   object\n",
      "dtypes: object(2)\n",
      "memory usage: 67.1+ KB\n"
     ]
    }
   ],
   "source": [
    "df_with_photos.info()"
   ]
  },
  {
   "cell_type": "code",
   "execution_count": 20,
   "id": "ed52d705-e141-4eba-aab9-a3cd1b210ba5",
   "metadata": {},
   "outputs": [
    {
     "name": "stdout",
     "output_type": "stream",
     "text": [
      "0.2766531713900135\n",
      "5928\n"
     ]
    }
   ],
   "source": [
    "print(df_missing_species.shape[0]/len(species_list))\n",
    "print(df_missing_species.shape[0] + df_with_photos.shape[0])"
   ]
  },
  {
   "cell_type": "code",
   "execution_count": 22,
   "id": "a296c020-0ae8-4e1a-825d-1031522e2577",
   "metadata": {},
   "outputs": [
    {
     "data": {
      "text/html": [
       "<div>\n",
       "<style scoped>\n",
       "    .dataframe tbody tr th:only-of-type {\n",
       "        vertical-align: middle;\n",
       "    }\n",
       "\n",
       "    .dataframe tbody tr th {\n",
       "        vertical-align: top;\n",
       "    }\n",
       "\n",
       "    .dataframe thead th {\n",
       "        text-align: right;\n",
       "    }\n",
       "</style>\n",
       "<table border=\"1\" class=\"dataframe\">\n",
       "  <thead>\n",
       "    <tr style=\"text-align: right;\">\n",
       "      <th></th>\n",
       "      <th>Category</th>\n",
       "      <th>Counts</th>\n",
       "    </tr>\n",
       "  </thead>\n",
       "  <tbody>\n",
       "    <tr>\n",
       "      <th>0</th>\n",
       "      <td>missing species</td>\n",
       "      <td>1640</td>\n",
       "    </tr>\n",
       "    <tr>\n",
       "      <th>1</th>\n",
       "      <td>species with no photos</td>\n",
       "      <td>0</td>\n",
       "    </tr>\n",
       "    <tr>\n",
       "      <th>2</th>\n",
       "      <td>species with photos</td>\n",
       "      <td>4288</td>\n",
       "    </tr>\n",
       "    <tr>\n",
       "      <th>3</th>\n",
       "      <td>Total</td>\n",
       "      <td>5928</td>\n",
       "    </tr>\n",
       "  </tbody>\n",
       "</table>\n",
       "</div>"
      ],
      "text/plain": [
       "                 Category  Counts\n",
       "0         missing species    1640\n",
       "1  species with no photos       0\n",
       "2     species with photos    4288\n",
       "3                   Total    5928"
      ]
     },
     "metadata": {},
     "output_type": "display_data"
    },
    {
     "name": "stdout",
     "output_type": "stream",
     "text": [
      "0.2766531713900135\n"
     ]
    }
   ],
   "source": [
    "display(pd.DataFrame({\"Category\":[\"missing species\", \"species with no photos\", \"species with photos\", \"Total\"],\n",
    "                      \"Counts\" : [df_missing_species.shape[0], df_missing_photos.shape[0], df_with_photos.shape[0], len(species_list)]\n",
    "                     }))\n",
    "print(f\"{df_missing_species.shape[0]/len(species_list)}\")"
   ]
  },
  {
   "cell_type": "markdown",
   "id": "5fb4f3ce-7cc6-474c-bd83-4a8a0cd858d4",
   "metadata": {},
   "source": [
    "##### Preview found images"
   ]
  },
  {
   "cell_type": "code",
   "execution_count": 13,
   "id": "9817f02a-d783-4a4f-826f-b89218312916",
   "metadata": {},
   "outputs": [
    {
     "name": "stderr",
     "output_type": "stream",
     "text": [
      "/tmp/ipykernel_1314/3689482667.py:6: FutureWarning: Series.__getitem__ treating keys as positions is deprecated. In a future version, integer keys will always be treated as labels (consistent with DataFrame behavior). To access a value by position, use `ser.iloc[pos]`\n",
      "  species = row[0]\n",
      "/tmp/ipykernel_1314/3689482667.py:7: FutureWarning: Series.__getitem__ treating keys as positions is deprecated. In a future version, integer keys will always be treated as labels (consistent with DataFrame behavior). To access a value by position, use `ser.iloc[pos]`\n",
      "  url = row[1]\n"
     ]
    },
    {
     "data": {
      "text/html": [
       "<p><b>Cryptotis gracilis</b><br><img src='https://inaturalist-open-data.s3.amazonaws.com/photos/342828715/square.jpeg' width='200'></p><p><b>Crocidura negligens</b><br><img src='https://inaturalist-open-data.s3.amazonaws.com/photos/184370940/square.jpeg' width='200'></p><p><b>Kerivoula smithii</b><br><img src='https://inaturalist-open-data.s3.amazonaws.com/photos/265249/square.jpg' width='200'></p><p><b>Pteronotus personatus</b><br><img src='https://inaturalist-open-data.s3.amazonaws.com/photos/504900242/square.jpg' width='200'></p><p><b>Apodemus epimelas</b><br><img src='https://static.inaturalist.org/photos/450378939/square.jpeg' width='200'></p>"
      ],
      "text/plain": [
       "<IPython.core.display.HTML object>"
      ]
     },
     "execution_count": 13,
     "metadata": {},
     "output_type": "execute_result"
    }
   ],
   "source": [
    "from IPython.display import HTML\n",
    "\n",
    "def render_images(df, n=5):\n",
    "    html = \"\"\n",
    "    for _, row in df.sample(n).iterrows():\n",
    "        species = row[0]\n",
    "        url = row[1]\n",
    "        html += f\"<p><b>{species}</b><br><img src='{url}' width='200'></p>\"\n",
    "    return HTML(html)\n",
    "\n",
    "# Example\n",
    "render_images(pd.read_csv(\"../clean/inat_batches/all_species_with_photos.csv\"))\n"
   ]
  }
 ],
 "metadata": {
  "kernelspec": {
   "display_name": "Python 3 (ipykernel)",
   "language": "python",
   "name": "python3"
  },
  "language_info": {
   "codemirror_mode": {
    "name": "ipython",
    "version": 3
   },
   "file_extension": ".py",
   "mimetype": "text/x-python",
   "name": "python",
   "nbconvert_exporter": "python",
   "pygments_lexer": "ipython3",
   "version": "3.12.3"
  }
 },
 "nbformat": 4,
 "nbformat_minor": 5
}
