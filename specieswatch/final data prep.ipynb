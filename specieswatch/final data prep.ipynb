{
 "cells": [
  {
   "cell_type": "code",
   "execution_count": null,
   "id": "ead437a9",
   "metadata": {},
   "outputs": [
    {
     "name": "stdout",
     "output_type": "stream",
     "text": [
      "Species with missing images (494):\n",
      "                      sci_name\n",
      "9               Hadromys humei\n",
      "31      Phyllomys brasiliensis\n",
      "32           Crocidura negrina\n",
      "33    Podogymnura aureospinula\n",
      "49           Crocidura phaeura\n",
      "...                        ...\n",
      "4057         Crocidura musseri\n",
      "4058           Crocidura parva\n",
      "4093       Crocidura ordinaria\n",
      "4102       Thomasomys vestitus\n",
      "4143       Echiothrix centrosa\n",
      "\n",
      "[494 rows x 1 columns]\n"
     ]
    }
   ],
   "source": [
    "import pandas as pd\n",
    "import geopandas as gpd\n",
    "\n",
    "gdf=gpd.read_file(\"/mnt/data/specieswatch/frontend_species_map-1.geojson\")\n",
    "gdf.head()\n",
    "\n",
    "csv_data = pd.read_csv('/mnt/data/specieswatch/all_species_with_photos.csv')\n",
    "\n",
    "gdf['sci_name_norm'] = gdf['sci_name'].str.strip().str.lower()\n",
    "csv_data['sci_name_norm'] = csv_data['sci_name'].str.strip().str.lower()\n",
    "\n",
    "merged = gdf.merge(csv_data[['sci_name_norm', 'photo_url']], on='sci_name_norm', how='left')\n",
    "missing_images = merged[merged['photo_url'].isna()][['sci_name']].drop_duplicates()\n",
    "print(f\"Species with missing images ({len(missing_images)}):\")\n",
    "print(missing_images)"
   ]
  },
  {
   "cell_type": "code",
   "execution_count": 4,
   "id": "16710a41",
   "metadata": {},
   "outputs": [],
   "source": [
    "merged = merged.drop(columns=['sci_name_norm'])"
   ]
  },
  {
   "cell_type": "code",
   "execution_count": 5,
   "id": "1e84cf87",
   "metadata": {},
   "outputs": [],
   "source": [
    "merged.to_file('final_species_with_images.geojson', driver='GeoJSON')"
   ]
  }
 ],
 "metadata": {
  "kernelspec": {
   "display_name": "Python 3",
   "language": "python",
   "name": "python3"
  },
  "language_info": {
   "codemirror_mode": {
    "name": "ipython",
    "version": 3
   },
   "file_extension": ".py",
   "mimetype": "text/x-python",
   "name": "python",
   "nbconvert_exporter": "python",
   "pygments_lexer": "ipython3",
   "version": "3.11.9"
  }
 },
 "nbformat": 4,
 "nbformat_minor": 5
}
